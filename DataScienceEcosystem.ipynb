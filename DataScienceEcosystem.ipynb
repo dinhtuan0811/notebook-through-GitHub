{
 "cells": [
  {
   "cell_type": "markdown",
   "id": "6777b28b-a47d-4be1-9047-a9f2c81cd945",
   "metadata": {},
   "source": [
    "# Data Science Tools and Ecosystem"
   ]
  },
  {
   "cell_type": "markdown",
   "id": "80fc2646-7116-4653-867c-44360061b631",
   "metadata": {},
   "source": [
    "In this notebook, Data Science Tools and Ecosystem are summarized."
   ]
  },
  {
   "cell_type": "markdown",
   "id": "9f221961-2c69-4780-a41e-e8b84e23fb49",
   "metadata": {},
   "source": [
    "Some of the popular languages that Data Scientists use are: Python, SQL, R..."
   ]
  },
  {
   "cell_type": "markdown",
   "id": "055c5bac-a8b3-491d-8333-bbfede34221b",
   "metadata": {},
   "source": [
    "Some of the commonly used libraries used by Data Scientists include: Keras, numpy, Pandas, Python, scikit-learn, Seaborn, TensorFlow"
   ]
  },
  {
   "cell_type": "markdown",
   "id": "24005396-ff2b-48d7-b136-78add42835dd",
   "metadata": {},
   "source": [
    "| Data Science Tools |\n",
    "| ---  |\n",
    "| Apache Spark |\n",
    "| --- |\n",
    "| BigML |\n",
    "| --- |\n",
    "| Apache Hadoop |"
   ]
  },
  {
   "cell_type": "code",
   "execution_count": 2,
   "id": "7672bfd1-f43f-45b2-b2cc-fb2efe895940",
   "metadata": {},
   "outputs": [
    {
     "data": {
      "text/plain": [
       "17"
      ]
     },
     "execution_count": 2,
     "metadata": {},
     "output_type": "execute_result"
    }
   ],
   "source": [
    "# This a simple arithmetic expression to mutiply then add integers\n",
    "(3*4)+5"
   ]
  },
  {
   "cell_type": "code",
   "execution_count": 4,
   "id": "ba1ba00f-0ed0-4dac-b529-29c0645ff921",
   "metadata": {},
   "outputs": [
    {
     "data": {
      "text/plain": [
       "3.3333333333333335"
      ]
     },
     "execution_count": 4,
     "metadata": {},
     "output_type": "execute_result"
    }
   ],
   "source": [
    "#This will convert 200 minutes to hours by diving by 60\n",
    "hours = 200/60 \n",
    "hours"
   ]
  },
  {
   "cell_type": "markdown",
   "id": "6367f71a-d35c-451f-a334-53bd8133042d",
   "metadata": {},
   "source": [
    "**Objectives:**\n",
    "* Keras\n",
    "* numpy \n",
    "* Pandas\n",
    "* scikit-learn"
   ]
  },
  {
   "cell_type": "markdown",
   "id": "f3c838a2-f099-4fe6-be2a-d56e28d3ea67",
   "metadata": {},
   "source": [
    "## Author \n",
    "Dinh tuan"
   ]
  },
  {
   "cell_type": "code",
   "execution_count": null,
   "id": "2c064519-37a9-4bca-b4ab-49d6e8e0f977",
   "metadata": {},
   "outputs": [],
   "source": []
  }
 ],
 "metadata": {
  "kernelspec": {
   "display_name": "Python",
   "language": "python",
   "name": "conda-env-python-py"
  },
  "language_info": {
   "codemirror_mode": {
    "name": "ipython",
    "version": 3
   },
   "file_extension": ".py",
   "mimetype": "text/x-python",
   "name": "python",
   "nbconvert_exporter": "python",
   "pygments_lexer": "ipython3",
   "version": "3.7.12"
  }
 },
 "nbformat": 4,
 "nbformat_minor": 5
}
